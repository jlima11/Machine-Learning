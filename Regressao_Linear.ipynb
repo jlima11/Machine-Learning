{
  "nbformat": 4,
  "nbformat_minor": 0,
  "metadata": {
    "colab": {
      "provenance": []
    },
    "kernelspec": {
      "name": "python3",
      "display_name": "Python 3"
    },
    "language_info": {
      "name": "python"
    }
  },
  "cells": [
    {
      "cell_type": "markdown",
      "source": [
        "Relação entre peso e tamanho\n",
        "\n"
      ],
      "metadata": {
        "id": "GFHtwcMWxVeo"
      }
    },
    {
      "cell_type": "code",
      "execution_count": 12,
      "metadata": {
        "id": "Spgchp3OxA1u"
      },
      "outputs": [],
      "source": [
        "import numpy as np\n",
        "import matplotlib.pyplot as plt\n",
        "from sklearn.linear_model import LinearRegression"
      ]
    },
    {
      "cell_type": "code",
      "source": [
        "#altura em cm\n",
        "X = np.array([[160],[165],[171],[174],[179],[181],[185],[188],[191],[200]])"
      ],
      "metadata": {
        "id": "ucOqqa4KxHWZ"
      },
      "execution_count": 3,
      "outputs": []
    },
    {
      "cell_type": "code",
      "source": [
        "X"
      ],
      "metadata": {
        "colab": {
          "base_uri": "https://localhost:8080/"
        },
        "id": "O98V7uQryFdd",
        "outputId": "d5540753-f405-4236-d9d4-9155e76fde91"
      },
      "execution_count": 4,
      "outputs": [
        {
          "output_type": "execute_result",
          "data": {
            "text/plain": [
              "array([[160],\n",
              "       [165],\n",
              "       [171],\n",
              "       [174],\n",
              "       [179],\n",
              "       [181],\n",
              "       [185],\n",
              "       [188],\n",
              "       [191],\n",
              "       [200]])"
            ]
          },
          "metadata": {},
          "execution_count": 4
        }
      ]
    },
    {
      "cell_type": "code",
      "source": [
        "y = np.array([[64],[67],[70],[80],[77],[81],[87],[94],[101],[112]])"
      ],
      "metadata": {
        "id": "mhJt8grWyLi5"
      },
      "execution_count": 5,
      "outputs": []
    },
    {
      "cell_type": "code",
      "source": [
        "y"
      ],
      "metadata": {
        "colab": {
          "base_uri": "https://localhost:8080/"
        },
        "id": "4ot3iheKykH2",
        "outputId": "d3126fb6-619e-4196-920a-bfafba3c59c7"
      },
      "execution_count": 6,
      "outputs": [
        {
          "output_type": "execute_result",
          "data": {
            "text/plain": [
              "array([[ 64],\n",
              "       [ 67],\n",
              "       [ 70],\n",
              "       [ 80],\n",
              "       [ 77],\n",
              "       [ 81],\n",
              "       [ 87],\n",
              "       [ 94],\n",
              "       [101],\n",
              "       [112]])"
            ]
          },
          "metadata": {},
          "execution_count": 6
        }
      ]
    },
    {
      "cell_type": "code",
      "source": [
        "%matplotlib inline\n",
        "\n",
        "plt.scatter(X, y)"
      ],
      "metadata": {
        "colab": {
          "base_uri": "https://localhost:8080/",
          "height": 282
        },
        "id": "3x8SJ9A5y6go",
        "outputId": "09a40d08-5cf7-46f0-b289-6d5a1d95b536"
      },
      "execution_count": 11,
      "outputs": [
        {
          "output_type": "execute_result",
          "data": {
            "text/plain": [
              "<matplotlib.collections.PathCollection at 0x7f7d805f8fa0>"
            ]
          },
          "metadata": {},
          "execution_count": 11
        },
        {
          "output_type": "display_data",
          "data": {
            "text/plain": [
              "<Figure size 432x288 with 1 Axes>"
            ],
            "image/png": "[encoded data removed]"
          },
          "metadata": {
            "needs_background": "light"
          }
        }
      ]
    },
    {
      "cell_type": "code",
      "source": [
        "regressor = LinearRegression()\n",
        "regressor.fit(X,y)"
      ],
      "metadata": {
        "colab": {
          "base_uri": "https://localhost:8080/"
        },
        "id": "_9iQeFPs3i34",
        "outputId": "217a735d-0085-4e77-92f0-3fb71fbbbf35"
      },
      "execution_count": 13,
      "outputs": [
        {
          "output_type": "execute_result",
          "data": {
            "text/plain": [
              "LinearRegression()"
            ]
          },
          "metadata": {},
          "execution_count": 13
        }
      ]
    },
    {
      "cell_type": "code",
      "source": [
        "regressor.intercept_ #coeficiente b0"
      ],
      "metadata": {
        "colab": {
          "base_uri": "https://localhost:8080/"
        },
        "id": "UZ_ycf0_3_Cc",
        "outputId": "cceec6ff-8708-401b-a442-90614e578414"
      },
      "execution_count": 14,
      "outputs": [
        {
          "output_type": "execute_result",
          "data": {
            "text/plain": [
              "array([-135.47659953])"
            ]
          },
          "metadata": {},
          "execution_count": 14
        }
      ]
    },
    {
      "cell_type": "code",
      "source": [
        "regressor.coef_ #coeficiente b1"
      ],
      "metadata": {
        "colab": {
          "base_uri": "https://localhost:8080/"
        },
        "id": "TLsGaH-i6BqM",
        "outputId": "c708cac5-2235-4273-ff62-396adbf88e99"
      },
      "execution_count": 15,
      "outputs": [
        {
          "output_type": "execute_result",
          "data": {
            "text/plain": [
              "array([[1.21949052]])"
            ]
          },
          "metadata": {},
          "execution_count": 15
        }
      ]
    },
    {
      "cell_type": "code",
      "source": [
        "#usando a fórmula\n",
        "# y = b0 + b1*X\n",
        "previsao = regressor.intercept_ + regressor.coef_ * 190"
      ],
      "metadata": {
        "id": "KBnHPZAz6gBU"
      },
      "execution_count": 16,
      "outputs": []
    },
    {
      "cell_type": "code",
      "source": [
        "previsao"
      ],
      "metadata": {
        "colab": {
          "base_uri": "https://localhost:8080/"
        },
        "id": "Vnmgu3TA60KP",
        "outputId": "9a4e74b0-d6c0-475f-d723-014de2012ba1"
      },
      "execution_count": 17,
      "outputs": [
        {
          "output_type": "execute_result",
          "data": {
            "text/plain": [
              "array([[96.22659953]])"
            ]
          },
          "metadata": {},
          "execution_count": 17
        }
      ]
    },
    {
      "cell_type": "code",
      "source": [
        "#usando o algorítimo\n",
        "previsao1 = regressor.predict(np.array([190]).reshape(1,1))\n",
        "previsao1"
      ],
      "metadata": {
        "colab": {
          "base_uri": "https://localhost:8080/"
        },
        "id": "Eke7HiA77ADx",
        "outputId": "31f3e503-8246-4e5f-9a73-c972c599b24d"
      },
      "execution_count": 18,
      "outputs": [
        {
          "output_type": "execute_result",
          "data": {
            "text/plain": [
              "array([[96.22659953]])"
            ]
          },
          "metadata": {},
          "execution_count": 18
        }
      ]
    },
    {
      "cell_type": "code",
      "source": [
        "# colocando os valores de treinamento\n",
        "previsao2 = regressor.predict(X)\n",
        "previsao2"
      ],
      "metadata": {
        "colab": {
          "base_uri": "https://localhost:8080/"
        },
        "id": "kd1d9eHd7mr-",
        "outputId": "061274b9-1e12-4fda-8736-87f9a1db8064"
      },
      "execution_count": 19,
      "outputs": [
        {
          "output_type": "execute_result",
          "data": {
            "text/plain": [
              "array([[ 59.64188389],\n",
              "       [ 65.73933649],\n",
              "       [ 73.05627962],\n",
              "       [ 76.71475118],\n",
              "       [ 82.81220379],\n",
              "       [ 85.25118483],\n",
              "       [ 90.12914692],\n",
              "       [ 93.78761848],\n",
              "       [ 97.44609005],\n",
              "       [108.42150474]])"
            ]
          },
          "metadata": {},
          "execution_count": 19
        }
      ]
    },
    {
      "cell_type": "code",
      "source": [
        "# calculando os desvios entre valores de treinamento e valores que foram colocados para serem previstos\n",
        "resultado = abs(y-previsao2).mean()\n",
        "resultado"
      ],
      "metadata": {
        "colab": {
          "base_uri": "https://localhost:8080/"
        },
        "id": "DkoryyVL7x6A",
        "outputId": "9aa7c3b7-36b8-42bd-9e89-447cfb01f5c3"
      },
      "execution_count": 23,
      "outputs": [
        {
          "output_type": "execute_result",
          "data": {
            "text/plain": [
              "3.249763033175358"
            ]
          },
          "metadata": {},
          "execution_count": 23
        }
      ]
    },
    {
      "cell_type": "code",
      "source": [
        "from sklearn.metrics import mean_absolute_error, mean_squared_error\n"
      ],
      "metadata": {
        "id": "_my19ZNI8Z0Z"
      },
      "execution_count": 24,
      "outputs": []
    },
    {
      "cell_type": "code",
      "source": [
        "#erro absoluto\n",
        "mae = mean_absolute_error(y, previsao2)\n",
        "mae"
      ],
      "metadata": {
        "colab": {
          "base_uri": "https://localhost:8080/"
        },
        "id": "1T7AV7Rd8lHi",
        "outputId": "ec265d02-78b7-463a-c38b-25e5553e5696"
      },
      "execution_count": 31,
      "outputs": [
        {
          "output_type": "execute_result",
          "data": {
            "text/plain": [
              "3.249763033175358"
            ]
          },
          "metadata": {},
          "execution_count": 31
        }
      ]
    },
    {
      "cell_type": "code",
      "source": [
        "#erro quadrático\n",
        "mse = mean_squared_error(y, previsao2)\n",
        "mse"
      ],
      "metadata": {
        "colab": {
          "base_uri": "https://localhost:8080/"
        },
        "id": "ks0RkbTU9pn7",
        "outputId": "708bcc45-01b9-4678-bc9d-291748f1d7fc"
      },
      "execution_count": 32,
      "outputs": [
        {
          "output_type": "execute_result",
          "data": {
            "text/plain": [
              "12.784300947867298"
            ]
          },
          "metadata": {},
          "execution_count": 32
        }
      ]
    },
    {
      "cell_type": "code",
      "source": [
        "plt.plot(X,y, 'o') #Dados de treinamento\n",
        "plt.plot(X, previsao2, color = '#880808') #Dados de treinamento colocados na fórmula da regressão\n",
        "plt.title(\"Regressao Linear Simples\")\n",
        "plt.xlabel('Tamanho')\n",
        "plt.ylabel('Peso')"
      ],
      "metadata": {
        "colab": {
          "base_uri": "https://localhost:8080/",
          "height": 312
        },
        "id": "-ytKVQBy9zRi",
        "outputId": "831b40d8-9881-402f-8056-94a707f27f8c"
      },
      "execution_count": 37,
      "outputs": [
        {
          "output_type": "execute_result",
          "data": {
            "text/plain": [
              "Text(0, 0.5, 'Peso')"
            ]
          },
          "metadata": {},
          "execution_count": 37
        },
        {
          "output_type": "display_data",
          "data": {
            "text/plain": [
              "<Figure size 432x288 with 1 Axes>"
            ],
            "image/png": "[encoded data removed]"
          },
          "metadata": {
            "needs_background": "light"
          }
        }
      ]
    }
  ]
}